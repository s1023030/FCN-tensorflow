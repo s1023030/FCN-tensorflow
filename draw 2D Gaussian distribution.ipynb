{
 "cells": [
  {
   "cell_type": "code",
   "execution_count": 36,
   "metadata": {},
   "outputs": [
    {
     "data": {
      "image/png": "[encoded data removed]",
      "text/plain": [
       "<matplotlib.figure.Figure at 0x25e2796c0b8>"
      ]
     },
     "metadata": {},
     "output_type": "display_data"
    }
   ],
   "source": [
    "import numpy as np\n",
    "import matplotlib.pyplot as plt\n",
    "amplitude=255\n",
    "centerX=50\n",
    "centerY=50\n",
    "stdx=100\n",
    "stdy=100\n",
    "\n",
    "\n",
    "stdx=stdx^2\n",
    "stdy=stdy^2\n",
    "x, y = np.meshgrid(np.linspace(0,640,640), np.linspace(0,480,480))\n",
    "x=x-centerX\n",
    "y=y-centerY\n",
    "x=x*x\n",
    "y=y*y\n",
    "x=x/(2*stdx)\n",
    "y=y/(2*stdy)\n",
    "combine=(x+y)*(-1)\n",
    "final=amplitude*np.exp(combine)\n",
    "plt.imshow(final, cmap='hot', interpolation='sinc',extent=[0,640,480,0])\n",
    "plt.show()"
   ]
  },
  {
   "cell_type": "code",
   "execution_count": null,
   "metadata": {
    "collapsed": true
   },
   "outputs": [],
   "source": []
  }
 ],
 "metadata": {
  "kernelspec": {
   "display_name": "Python 3",
   "language": "python",
   "name": "python3"
  },
  "language_info": {
   "codemirror_mode": {
    "name": "ipython",
    "version": 3
   },
   "file_extension": ".py",
   "mimetype": "text/x-python",
   "name": "python",
   "nbconvert_exporter": "python",
   "pygments_lexer": "ipython3",
   "version": "3.5.4"
  }
 },
 "nbformat": 4,
 "nbformat_minor": 2
}
