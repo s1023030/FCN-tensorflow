{
 "cells": [
  {
   "cell_type": "code",
   "execution_count": 1,
   "metadata": {},
   "outputs": [],
   "source": [
    "import tensorflow as tf\n",
    "import numpy as np\n",
    "import cv2\n",
    "import input_data"
   ]
  },
  {
   "cell_type": "code",
   "execution_count": 2,
   "metadata": {},
   "outputs": [],
   "source": [
    "img_height=480\n",
    "img_width=640\n",
    "#Network Parameters\n",
    "n_input=img_height*img_width*3\n",
    "learning_rate=1e-8\n",
    "training_iters=18800\n",
    "batch_size=4\n",
    "display_step=8\n",
    "dropout=0.75\n",
    "epoch=5\n",
    "\n",
    "#tf graph input\n",
    "x=tf.placeholder(tf.float32,[None,img_height,img_width,3])\n",
    "y=tf.placeholder(tf.float32,[None,img_height,img_width,16])\n",
    "keep_prob=tf.placeholder(tf.float32)"
   ]
  },
  {
   "cell_type": "code",
   "execution_count": 3,
   "metadata": {},
   "outputs": [
    {
     "data": {
      "text/plain": [
       "'def getTestPicArray(filename) :\\n    im = cv2.imread(filename)\\n    #im = cv2.cvtColor(im, cv2.COLOR_BGR2GRAY)\\n    im_arr = np.array(im)\\n    nm = im_arr.reshape((1, n_input))\\n    nm = nm.astype(np.float32)\\n    return nm'"
      ]
     },
     "execution_count": 3,
     "metadata": {},
     "output_type": "execute_result"
    }
   ],
   "source": [
    "'''def getTestPicArray(filename) :\n",
    "    im = cv2.imread(filename)\n",
    "    #im = cv2.cvtColor(im, cv2.COLOR_BGR2GRAY)\n",
    "    im_arr = np.array(im)\n",
    "    nm = im_arr.reshape((1, n_input))\n",
    "    nm = nm.astype(np.float32)\n",
    "    return nm'''"
   ]
  },
  {
   "cell_type": "code",
   "execution_count": 4,
   "metadata": {},
   "outputs": [],
   "source": [
    "def conv2d(img,w,b):\n",
    "    return tf.nn.relu(tf.nn.bias_add(tf.nn.conv2d(img,w,strides=[1,1,1,1],padding='SAME'),b))\n",
    "def max_pool(img,k):\n",
    "    return tf.nn.max_pool(img,ksize=[1,k,k,1],strides=[1,k,k,1],padding='SAME')\n",
    "def conv2d_transpose(img,w,b,outputShape):\n",
    "    return tf.nn.relu(tf.nn.bias_add(tf.nn.conv2d_transpose(img,w,output_shape=outputShape,strides=[1,1,1,1],padding='SAME'),b))"
   ]
  },
  {
   "cell_type": "code",
   "execution_count": 5,
   "metadata": {},
   "outputs": [],
   "source": [
    "wc1=tf.Variable(tf.random_normal([5,5,3,16]),name=\"wc1\")\n",
    "bc1=tf.Variable(tf.random_normal([16]),name=\"bc1\")\n",
    "\n",
    "wc2=tf.Variable(tf.random_normal([5,5,16,64]),name=\"wc2\")\n",
    "bc2=tf.Variable(tf.random_normal([64]),name=\"bc2\")\n",
    "\n",
    "wc3=tf.Variable(tf.random_normal([5,5,64,64]),name=\"wc3\")\n",
    "bc3=tf.Variable(tf.random_normal([64]),name=\"bc3\")\n",
    "\n",
    "wc4=tf.Variable(tf.random_normal([5,5,16,64]),name=\"wc4\")\n",
    "bc4=tf.Variable(tf.random_normal([16]),name=\"bc4\")\n",
    "\n",
    "wc5=tf.Variable(tf.random_normal([5,5,16,16]),name=\"wc5\")\n",
    "bc5=tf.Variable(tf.random_normal([16]),name=\"bc5\")\n",
    "\n",
    "#wout=tf.Variable(tf.random_normal([1,img_height,img_width,16]),name=\"wout\")\n",
    "#bout=tf.Variable(tf.random_normal([1,img_height,img_width,16]),name=\"bout\")"
   ]
  },
  {
   "cell_type": "code",
   "execution_count": 6,
   "metadata": {},
   "outputs": [
    {
     "name": "stdout",
     "output_type": "stream",
     "text": [
      "WARNING:tensorflow:From <ipython-input-6-891556da10d0>:34: softmax_cross_entropy_with_logits (from tensorflow.python.ops.nn_ops) is deprecated and will be removed in a future version.\n",
      "Instructions for updating:\n",
      "\n",
      "Future major versions of TensorFlow will allow gradients to flow\n",
      "into the labels input on backprop by default.\n",
      "\n",
      "See tf.nn.softmax_cross_entropy_with_logits_v2.\n",
      "\n"
     ]
    }
   ],
   "source": [
    "#Construct model\n",
    "_X=tf.reshape(x,shape=[-1,img_height,img_width,3])\n",
    "conv1_1=conv2d(_X,wc1,bc1)\n",
    "conv1_2=max_pool(conv1_1,k=2)\n",
    "conv1_2=tf.nn.dropout(conv1_2,keep_prob)\n",
    "\n",
    "conv2_1=conv2d(conv1_2,wc2,bc2)\n",
    "conv2_2=max_pool(conv2_1,k=2)\n",
    "conv2_2=tf.nn.dropout(conv2_2,keep_prob)\n",
    "\n",
    "conv3=conv2d(conv2_2,wc3,bc3)\n",
    "conv3=max_pool(conv3,k=1)\n",
    "conv3=tf.nn.dropout(conv3,keep_prob)\n",
    "\n",
    "add1=tf.add(conv2_2,conv3)\n",
    "#add1=conv2+conv3\n",
    "\n",
    "conv_t1=tf.image.resize_bilinear(add1,conv2_1.get_shape().as_list()[1:3])\n",
    "tmpShape=conv1_2.get_shape().as_list()\n",
    "tmpShape[0]=batch_size\n",
    "conv_t1=conv2d_transpose(conv_t1,wc4,bc4,outputShape=tmpShape)\n",
    "conv_t1=tf.nn.dropout(conv_t1,keep_prob)\n",
    "\n",
    "add2=tf.add(conv1_2,conv_t1)\n",
    "\n",
    "conv_t2=tf.image.resize_bilinear(add2,conv1_1.get_shape().as_list()[1:3])\n",
    "tmpShape=_X.get_shape().as_list()\n",
    "tmpShape[0]=batch_size\n",
    "tmpShape[3]=16\n",
    "conv_t2=conv2d_transpose(conv_t2,wc5,bc5,outputShape=tmpShape)\n",
    "conv_t2=tf.nn.dropout(conv_t2,keep_prob)\n",
    "\n",
    "#predict=tf.add(tf.multiply(conv_t2,wout),bout)\n",
    "cost=tf.reduce_mean(tf.nn.softmax_cross_entropy_with_logits(logits=conv_t2,labels=y))\n",
    "optimizer=tf.train.AdamOptimizer(learning_rate=learning_rate).minimize(cost)"
   ]
  },
  {
   "cell_type": "code",
   "execution_count": 7,
   "metadata": {},
   "outputs": [],
   "source": [
    "init=tf.global_variables_initializer()\n",
    "config = tf.ConfigProto()\n",
    "config.gpu_options.allow_growth = True"
   ]
  },
  {
   "cell_type": "code",
   "execution_count": 8,
   "metadata": {},
   "outputs": [
    {
     "ename": "SyntaxError",
     "evalue": "invalid syntax (<ipython-input-8-b2160dfe6865>, line 4)",
     "output_type": "error",
     "traceback": [
      "\u001b[1;36m  File \u001b[1;32m\"<ipython-input-8-b2160dfe6865>\"\u001b[1;36m, line \u001b[1;32m4\u001b[0m\n\u001b[1;33m    for i in range(0,epoch)\u001b[0m\n\u001b[1;37m                           ^\u001b[0m\n\u001b[1;31mSyntaxError\u001b[0m\u001b[1;31m:\u001b[0m invalid syntax\n"
     ]
    }
   ],
   "source": [
    "with tf.Session(config=config) as sess:\n",
    "    saver = tf.train.Saver({\"wc1\":wc1,\"bc1\":bc1,\"wc2\":wc2,\"bc2\":bc2,\"wc3\":wc3,\"bc3\":bc3,\"wc4\":wc4,\"bc4\":bc4,\"wc5\":wc5,\"bc5\":bc5})\n",
    "    sess.run(init)\n",
    "    for i in range(0,epoch):\n",
    "        print(\"epoch:\"+str(i)+\"       !!!!!!!!!!!!\")\n",
    "        step=0\n",
    "        now_at=0\n",
    "        while step*batch_size<training_iters:\n",
    "            X,Y=input_data.next_batch(\n",
    "                    img_dir_path='mpii_human_pose_v1\\\\output_images\\\\',\n",
    "                    index_path='train_data\\\\new_data.json',\n",
    "                    img_height=480,img_width=640,\n",
    "                    batch_size=batch_size)\n",
    "            sess.run(optimizer,feed_dict = {x:X,y:Y,keep_prob:dropout})\n",
    "            loss=sess.run(cost,feed_dict = {x:X,y:Y})\n",
    "            if step%display_step==0:\n",
    "                print(\"Iter \"+str(step*batch_size)+\", Minibatch Loss=\"+\"{:.6f}\".format(loss))\n",
    "            step+=1\n",
    "            now_at+=batch_size\n",
    "    save_path = saver.save(sess, \"model/model.ckpt\")\n",
    "print(\"done!\")\n"
   ]
  },
  {
   "cell_type": "code",
   "execution_count": null,
   "metadata": {},
   "outputs": [],
   "source": []
  }
 ],
 "metadata": {
  "kernelspec": {
   "display_name": "Python 3",
   "language": "python",
   "name": "python3"
  },
  "language_info": {
   "codemirror_mode": {
    "name": "ipython",
    "version": 3
   },
   "file_extension": ".py",
   "mimetype": "text/x-python",
   "name": "python",
   "nbconvert_exporter": "python",
   "pygments_lexer": "ipython3",
   "version": "3.6.5"
  }
 },
 "nbformat": 4,
 "nbformat_minor": 2
}
