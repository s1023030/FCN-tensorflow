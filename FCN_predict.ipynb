{
 "cells": [
  {
   "cell_type": "code",
   "execution_count": 9,
   "metadata": {},
   "outputs": [],
   "source": [
    "import tensorflow as tf\n",
    "import numpy as np\n",
    "import cv2"
   ]
  },
  {
   "cell_type": "code",
   "execution_count": 10,
   "metadata": {},
   "outputs": [],
   "source": [
    "img_height=480\n",
    "img_width=640\n",
    "#Network Parameters\n",
    "n_input=img_height*img_width*3\n",
    "\n",
    "batch_size=1\n",
    "\n",
    "tf.reset_default_graph()\n",
    "#tf graph input\n",
    "x=tf.placeholder(tf.float32,[None,img_height,img_width,3])"
   ]
  },
  {
   "cell_type": "code",
   "execution_count": 11,
   "metadata": {},
   "outputs": [],
   "source": [
    "def conv2d(img,w,b):\n",
    "    return tf.nn.relu(tf.nn.bias_add(tf.nn.conv2d(img,w,strides=[1,1,1,1],padding='SAME'),b))\n",
    "def max_pool(img,k):\n",
    "    return tf.nn.max_pool(img,ksize=[1,k,k,1],strides=[1,k,k,1],padding='SAME')\n",
    "def conv2d_transpose(img,w,b,outputShape):\n",
    "    return tf.nn.relu(tf.nn.bias_add(tf.nn.conv2d_transpose(img,w,output_shape=outputShape,strides=[1,1,1,1],padding='SAME'),b))"
   ]
  },
  {
   "cell_type": "code",
   "execution_count": 12,
   "metadata": {},
   "outputs": [],
   "source": [
    "wc1=tf.Variable(tf.random_normal([5,5,3,16]),name=\"wc1\")\n",
    "bc1=tf.Variable(tf.random_normal([16]),name=\"bc1\")\n",
    "\n",
    "wc2=tf.Variable(tf.random_normal([5,5,16,64]),name=\"wc2\")\n",
    "bc2=tf.Variable(tf.random_normal([64]),name=\"bc2\")\n",
    "\n",
    "wc3=tf.Variable(tf.random_normal([5,5,64,64]),name=\"wc3\")\n",
    "bc3=tf.Variable(tf.random_normal([64]),name=\"bc3\")\n",
    "\n",
    "wc4=tf.Variable(tf.random_normal([5,5,16,64]),name=\"wc4\")\n",
    "bc4=tf.Variable(tf.random_normal([16]),name=\"bc4\")\n",
    "\n",
    "wc5=tf.Variable(tf.random_normal([5,5,16,16]),name=\"wc5\")\n",
    "bc5=tf.Variable(tf.random_normal([16]),name=\"bc5\")"
   ]
  },
  {
   "cell_type": "code",
   "execution_count": 13,
   "metadata": {},
   "outputs": [],
   "source": [
    "#Construct model\n",
    "_X=tf.reshape(x,shape=[-1,img_height,img_width,3])\n",
    "conv1_1=conv2d(_X,wc1,bc1)\n",
    "conv1_2=max_pool(conv1_1,k=2)\n",
    "\n",
    "conv2_1=conv2d(conv1_2,wc2,bc2)\n",
    "conv2_2=max_pool(conv2_1,k=2)\n",
    "\n",
    "conv3=conv2d(conv2_2,wc3,bc3)\n",
    "conv3=max_pool(conv3,k=1)\n",
    "\n",
    "add1=tf.add(conv2_2,conv3)\n",
    "#add1=conv2+conv3\n",
    "\n",
    "conv_t1=tf.image.resize_bilinear(add1,conv2_1.get_shape().as_list()[1:3])\n",
    "tmpShape=conv1_2.get_shape().as_list()\n",
    "tmpShape[0]=batch_size\n",
    "conv_t1=conv2d_transpose(conv_t1,wc4,bc4,outputShape=tmpShape)\n",
    "\n",
    "add2=tf.add(conv1_2,conv_t1)\n",
    "\n",
    "conv_t2=tf.image.resize_bilinear(add2,conv1_1.get_shape().as_list()[1:3])\n",
    "tmpShape=_X.get_shape().as_list()\n",
    "tmpShape[0]=batch_size\n",
    "tmpShape[3]=16\n",
    "conv_t2=conv2d_transpose(conv_t2,wc5,bc5,outputShape=tmpShape)"
   ]
  },
  {
   "cell_type": "code",
   "execution_count": 14,
   "metadata": {},
   "outputs": [],
   "source": [
    "saver = tf.train.Saver()\n",
    "init=tf.global_variables_initializer()\n",
    "config = tf.ConfigProto()\n",
    "config.gpu_options.allow_growth = True"
   ]
  },
  {
   "cell_type": "code",
   "execution_count": 15,
   "metadata": {},
   "outputs": [],
   "source": [
    "pairs=[[7,8],[8,9],[6,5],[5,4],[6,0],[7,0],[0,1],[1,2],[2,3],[10,11],[11,12],[15,14],[14,13],[12,1],[13,1]]\n",
    "def draw_bones(img,joints):\n",
    "    for line in pairs:\n",
    "        a=(int(joints[line[0]][0]),int(joints_pos[line[0]][1]))\n",
    "        b=(int(joints[line[1]][0]),int(joints_pos[line[1]][1]))\n",
    "        cv2.line(img,a,b,(255,0,0),5)\n",
    "    return img"
   ]
  },
  {
   "cell_type": "code",
   "execution_count": 16,
   "metadata": {},
   "outputs": [
    {
     "name": "stdout",
     "output_type": "stream",
     "text": [
      "INFO:tensorflow:Restoring parameters from model/model.ckpt\n"
     ]
    }
   ],
   "source": [
    "with tf.Session(config=config) as sess:\n",
    "    sess.run(init)\n",
    "    saver.restore(sess,\"model/model.ckpt\")\n",
    "    cap = cv2.VideoCapture(0)\n",
    "    np_img=np.zeros([1,img_height,img_width,3])\n",
    "    joints_pos=np.zeros([16,2])\n",
    "    #tmpCount=0\n",
    "    #while tmpCount<1:\n",
    "    while True:\n",
    "        ret, frame = cap.read()\n",
    "        np_img[0]=np.array(frame)\n",
    "        output=sess.run(conv_t2,feed_dict = {x:np_img})\n",
    "        for i in range(0,16):\n",
    "            tmp_heatmap=output[0,:,:,i]\n",
    "            single_joint_location = np.unravel_index(tmp_heatmap.argmax(), tmp_heatmap.shape)\n",
    "            joints_pos[i]=single_joint_location\n",
    "        frame=draw_bones(frame,joints_pos)\n",
    "        cv2.imshow('frame',frame)\n",
    "        #tmpCount+=1\n",
    "        if cv2.waitKey(1) & 0xFF == ord('q'):\n",
    "            break\n",
    "cap.release()\n",
    "cv2.destroyAllWindows()"
   ]
  },
  {
   "cell_type": "code",
   "execution_count": null,
   "metadata": {},
   "outputs": [],
   "source": []
  }
 ],
 "metadata": {
  "kernelspec": {
   "display_name": "Python 3",
   "language": "python",
   "name": "python3"
  },
  "language_info": {
   "codemirror_mode": {
    "name": "ipython",
    "version": 3
   },
   "file_extension": ".py",
   "mimetype": "text/x-python",
   "name": "python",
   "nbconvert_exporter": "python",
   "pygments_lexer": "ipython3",
   "version": "3.6.5"
  }
 },
 "nbformat": 4,
 "nbformat_minor": 2
}
