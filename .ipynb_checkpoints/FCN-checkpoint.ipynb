{
 "cells": [
  {
   "cell_type": "code",
   "execution_count": 18,
   "metadata": {},
   "outputs": [
    {
     "name": "stdout",
     "output_type": "stream",
     "text": [
      "get image\n",
      "(1, 921600)\n",
      "(1, 720, 1280, 1)\n",
      "(1, 720, 1280, 1)\n"
     ]
    }
   ],
   "source": [
    "import tensorflow as tf\n",
    "import numpy as np\n",
    "import cv2\n",
    "def getTestPicArray(filename) :\n",
    "    im = cv2.imread(filename)\n",
    "    gray_image = cv2.cvtColor(im, cv2.COLOR_BGR2GRAY)\n",
    "    im_arr = np.array(gray_image)\n",
    "    nm = im_arr.reshape((1, 921600))\n",
    "    nm = nm.astype(np.float32)\n",
    "    return nm\n",
    "#Network Parameters\n",
    "n_input=921600\n",
    "\n",
    "\n",
    "#tf graph input\n",
    "x=tf.placeholder(tf.float32,[None,n_input])\n",
    "\n",
    "#Create Model\n",
    "def conv2d(img,w,b):\n",
    "    return tf.nn.relu(tf.nn.bias_add(tf.nn.conv2d(img,w,strides=[1,1,1,1],padding='SAME'),b))\n",
    "def max_pool(img,k):\n",
    "    return tf.nn.max_pool(img,ksize=[1,k,k,1],strides=[1,k,k,1],padding='SAME')\n",
    "wc1=tf.Variable(tf.random_normal([5,5,1,64]),name=\"wc1\")\n",
    "bc1=tf.Variable(tf.random_normal([64]),name=\"bc1\")\n",
    "\n",
    "wc2=tf.Variable(tf.random_normal([5,5,64,128]),name=\"wc2\")\n",
    "bc2=tf.Variable(tf.random_normal([128]),name=\"bc2\")\n",
    "\n",
    "wc3=tf.Variable(tf.random_normal([5,5,128,128]),name=\"wc3\")\n",
    "bc3=tf.Variable(tf.random_normal([128]),name=\"bc3\")\n",
    "\n",
    "wc4=tf.Variable(tf.random_normal([5,5,128,64]),name=\"wc4\")\n",
    "bc4=tf.Variable(tf.random_normal([64]),name=\"bc4\")\n",
    "\n",
    "wc5=tf.Variable(tf.random_normal([5,5,64,1]),name=\"wc5\")\n",
    "bc5=tf.Variable(tf.random_normal([1]),name=\"bc5\")\n",
    "\n",
    "\n",
    "#Construct model\n",
    "_X=tf.reshape(x,shape=[-1,720,1280,1])\n",
    "conv1=conv2d(_X,wc1,bc1)\n",
    "conv1=max_pool(conv1,k=2)\n",
    "\n",
    "conv2=conv2d(conv1,wc2,bc2)\n",
    "conv2=max_pool(conv2,k=2)\n",
    "\n",
    "conv3=conv2d(conv2,wc3,bc3)\n",
    "conv3=max_pool(conv3,k=1)\n",
    "\n",
    "add1=tf.add(conv2,conv3)\n",
    "#add1=conv2+conv3\n",
    "conv4=conv2d(add1,wc4,bc4)\n",
    "conv4=tf.image.resize_bilinear(conv4,conv1.get_shape().as_list()[1:3])\n",
    "\n",
    "add2=tf.add(conv1,conv4)\n",
    "\n",
    "conv5=conv2d(add2,wc5,bc5)\n",
    "conv5=tf.image.resize_bilinear(conv5,_X.get_shape().as_list()[1:3])\n",
    "\n",
    "\n",
    "init=tf.global_variables_initializer()\n",
    "with tf.Session() as sess:\n",
    "    sess.run(init)\n",
    "    imX=getTestPicArray(\"test.jpg\")\n",
    "    print(\"get image\")\n",
    "    print(imX.shape)\n",
    "    output=sess.run([_X,conv5],feed_dict = {x:imX})\n",
    "    print(output[0].shape)\n",
    "    print(output[1].shape)"
   ]
  },
  {
   "cell_type": "code",
   "execution_count": null,
   "metadata": {
    "collapsed": true
   },
   "outputs": [],
   "source": []
  }
 ],
 "metadata": {
  "kernelspec": {
   "display_name": "Python 3",
   "language": "python",
   "name": "python3"
  },
  "language_info": {
   "codemirror_mode": {
    "name": "ipython",
    "version": 3
   },
   "file_extension": ".py",
   "mimetype": "text/x-python",
   "name": "python",
   "nbconvert_exporter": "python",
   "pygments_lexer": "ipython3",
   "version": "3.5.4"
  }
 },
 "nbformat": 4,
 "nbformat_minor": 2
}
