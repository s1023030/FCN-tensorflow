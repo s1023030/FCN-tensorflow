{
 "cells": [
  {
   "cell_type": "code",
   "execution_count": 4,
   "metadata": {},
   "outputs": [],
   "source": [
    "import json\n",
    "import numpy as np\n",
    "import random\n",
    "input_dir_path='mpii_human_pose_v1\\\\input_images\\\\'\n",
    "output_dir_path='mpii_human_pose_v1\\\\output_images64x64\\\\'\n",
    "iter_time=10000"
   ]
  },
  {
   "cell_type": "code",
   "execution_count": 5,
   "metadata": {},
   "outputs": [],
   "source": [
    "json_fp = open('practice\\\\practice.json', 'w')\n",
    "w=5.0\n",
    "b=3.0"
   ]
  },
  {
   "cell_type": "code",
   "execution_count": 6,
   "metadata": {},
   "outputs": [
    {
     "name": "stdout",
     "output_type": "stream",
     "text": [
      "end\n"
     ]
    }
   ],
   "source": [
    "for i in range(0,iter_time):\n",
    "    input_num=random.random()*random.randrange(0, 101)\n",
    "    output_num=w*input_num+b\n",
    "    data_output = {\n",
    "        \"x\": input_num,\n",
    "        \"y\": output_num\n",
    "    }\n",
    "    print(json.dumps(data_output), file=json_fp)\n",
    "print(\"end\")\n",
    "json_fp.close()"
   ]
  },
  {
   "cell_type": "code",
   "execution_count": null,
   "metadata": {},
   "outputs": [],
   "source": []
  }
 ],
 "metadata": {
  "kernelspec": {
   "display_name": "Python 3",
   "language": "python",
   "name": "python3"
  },
  "language_info": {
   "codemirror_mode": {
    "name": "ipython",
    "version": 3
   },
   "file_extension": ".py",
   "mimetype": "text/x-python",
   "name": "python",
   "nbconvert_exporter": "python",
   "pygments_lexer": "ipython3",
   "version": "3.6.5"
  }
 },
 "nbformat": 4,
 "nbformat_minor": 2
}
