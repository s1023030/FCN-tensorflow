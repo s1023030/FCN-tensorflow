{
 "cells": [
  {
   "cell_type": "code",
   "execution_count": 28,
   "metadata": {
    "collapsed": true
   },
   "outputs": [],
   "source": [
    "import json\n",
    "import matplotlib.pyplot as plt\n",
    "import matplotlib.image as mpimg\n",
    "from matplotlib.pyplot import imshow\n",
    "import numpy as np\n",
    "import cv2\n",
    "%matplotlib inline\n",
    "input_dir_path='mpii_human_pose_v1\\\\input_images\\\\'\n",
    "output_dir_path='mpii_human_pose_v1\\\\output_images360x480\\\\'\n",
    "target_img_height=480\n",
    "target_img_width=360"
   ]
  },
  {
   "cell_type": "code",
   "execution_count": 29,
   "metadata": {
    "collapsed": true
   },
   "outputs": [],
   "source": [
    "raw_datas= open('train_data\\\\data.json').readlines()\n",
    "json_fp = open('train_data\\\\new_data.json', 'w')"
   ]
  },
  {
   "cell_type": "code",
   "execution_count": 30,
   "metadata": {},
   "outputs": [
    {
     "name": "stdout",
     "output_type": "stream",
     "text": [
      "0\n",
      "end\n"
     ]
    }
   ],
   "source": [
    "loop_times=0\n",
    "for raw_data in raw_datas:\n",
    "    if loop_times%100==0:\n",
    "        print(loop_times)\n",
    "    data=json.loads(raw_data.strip())      #讀標記資料第?筆\n",
    "    img = cv2.imread(input_dir_path+data['filename']) #讀圖檔\n",
    "    joints_pos=data['joint_pos']               #讀關節點資料\n",
    "    original_img_height, original_img_width, channels = img.shape        #獲得圖片資訊\n",
    "    original_data_scale=data['scale']\n",
    "    original_data_objpos=data['objpos']\n",
    "    \n",
    "                                                                   #算bounding box的位置\n",
    "    side=original_data_scale*200*1.1 \n",
    "    left_top_X=int(original_data_objpos[0]-(side/2))\n",
    "    left_top_Y=int(original_data_objpos[1]-(side/2))\n",
    "    right_down_X=min(original_img_width,left_top_X+int(side))\n",
    "    right_down_Y=min(original_img_height,left_top_Y+int(side))\n",
    "    left_top_X=max(0,left_top_X)\n",
    "    left_top_Y=max(0,left_top_Y)\n",
    "\n",
    "    new_side_width=right_down_X-left_top_X\n",
    "    new_side_height=right_down_Y-left_top_Y\n",
    "\n",
    "    crop_img=img[left_top_Y:right_down_Y,left_top_X:right_down_X]   #切割bound box的範圍\n",
    "    for joint in joints_pos:\n",
    "        joints_pos[str(joint)][0]=int(joints_pos[str(joint)][0]-left_top_X)\n",
    "        joints_pos[str(joint)][1]=int(joints_pos[str(joint)][1]-left_top_Y)\n",
    "                                                                        #first calculate padding\n",
    "    left_padding=int(target_img_width/2-new_side_width/2)\n",
    "    top_padding=int(target_img_height/2-new_side_height/2)\n",
    "    right_padding=int(target_img_width-left_padding-new_side_width)\n",
    "    bottom_padding=int(target_img_height-top_padding-new_side_height)\n",
    "\n",
    "    if left_padding<0 or top_padding<0 or right_padding<0 or bottom_padding<0: #crop_image too big\n",
    "        ratio_resize_X=float(target_img_width)/float(new_side_width)\n",
    "        ratio_resize_Y=float(target_img_height)/float(new_side_height)\n",
    "        ratio_resize=min(ratio_resize_X,ratio_resize_Y)\n",
    "        crop_img=cv2.resize(crop_img,(0,0),fx=ratio_resize,fy=ratio_resize)\n",
    "        crop_img_height, crop_img_width, channels = crop_img.shape   #獲得crop圖片資訊\n",
    "        left_padding=int(target_img_width/2-crop_img_width/2)\n",
    "        top_padding=int(target_img_height/2-crop_img_height/2)\n",
    "        right_padding=int(target_img_width-left_padding-crop_img_width)\n",
    "        bottom_padding=int(target_img_height-top_padding-crop_img_height)\n",
    "        for joint in joints_pos:\n",
    "            joints_pos[str(joint)][0]=(joints_pos[str(joint)][0]*ratio_resize)+left_padding\n",
    "            joints_pos[str(joint)][1]=(joints_pos[str(joint)][1]*ratio_resize)+top_padding\n",
    "    else:\n",
    "        for joint in joints_pos:\n",
    "            joints_pos[str(joint)][0]=int(joints_pos[str(joint)][0]+left_padding)\n",
    "            joints_pos[str(joint)][1]=int(joints_pos[str(joint)][1]+top_padding)\n",
    "\n",
    "    padding_crop_img= cv2.copyMakeBorder(\n",
    "        crop_img,top=top_padding,bottom=bottom_padding\n",
    "        ,left=left_padding,right=right_padding\n",
    "        ,borderType=cv2.BORDER_CONSTANT,value=[0,0,0])\n",
    "    \n",
    "    cv2.imwrite(output_dir_path+str(loop_times)+\"-\"+data['filename'],padding_crop_img)\n",
    "\n",
    "    data_output = {\n",
    "        \"filename\": str(loop_times)+\"-\"+data['filename'],\n",
    "        \"train\": data['train'],\n",
    "        \"is_visible\": data['is_visible'],\n",
    "        \"joint_pos\": joints_pos\n",
    "    }\n",
    "    print(json.dumps(data_output), file=json_fp)\n",
    "    loop_times=loop_times+1\n",
    "print(\"end\")\n",
    "json_fp.close()"
   ]
  },
  {
   "cell_type": "code",
   "execution_count": null,
   "metadata": {
    "collapsed": true
   },
   "outputs": [],
   "source": []
  }
 ],
 "metadata": {
  "kernelspec": {
   "display_name": "Python 3",
   "language": "python",
   "name": "python3"
  },
  "language_info": {
   "codemirror_mode": {
    "name": "ipython",
    "version": 3
   },
   "file_extension": ".py",
   "mimetype": "text/x-python",
   "name": "python",
   "nbconvert_exporter": "python",
   "pygments_lexer": "ipython3",
   "version": "3.5.4"
  }
 },
 "nbformat": 4,
 "nbformat_minor": 2
}
