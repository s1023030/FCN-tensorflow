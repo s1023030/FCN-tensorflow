{
 "cells": [
  {
   "cell_type": "code",
   "execution_count": 25,
   "metadata": {},
   "outputs": [],
   "source": [
    "import tensorflow as tf\n",
    "import numpy as np\n",
    "import cv2"
   ]
  },
  {
   "cell_type": "code",
   "execution_count": 26,
   "metadata": {},
   "outputs": [],
   "source": [
    "tf.reset_default_graph()\n",
    "\n",
    "img_height=480\n",
    "img_width=360\n",
    "#Network Parameters\n",
    "n_input=img_height*img_width*3\n",
    "batch_size=1\n",
    "display_step=1\n",
    "dropout=0.8\n",
    "epoch=2\n",
    "\n",
    "#tf graph input\n",
    "x=tf.placeholder(tf.float32,[None,img_height,img_width,3])\n",
    "\n",
    "keep_prob=tf.placeholder(tf.float32)"
   ]
  },
  {
   "cell_type": "code",
   "execution_count": 27,
   "metadata": {},
   "outputs": [],
   "source": [
    "def conv2d(img,w,b):\n",
    "    return tf.nn.relu(tf.nn.bias_add(tf.nn.conv2d(img,w,strides=[1,1,1,1],padding='SAME'),b))\n",
    "def max_pool(img,k):\n",
    "    return tf.nn.max_pool(img,ksize=[1,k,k,1],strides=[1,k,k,1],padding='SAME')\n",
    "def conv2d_transpose(img,w,b,output_shape):\n",
    "    return tf.nn.relu(tf.nn.bias_add(tf.nn.conv2d_transpose(img,w,output_shape=output_shape,strides=[1,1,1,1],padding='SAME'),b))\n",
    "def cv_bottleneck(img,w1,w2):\n",
    "    tmp_bn_1=tf.nn.relu(tf.nn.conv2d(img,w1,strides=[1,1,1,1],padding='SAME'))\n",
    "    tmp_bn_2=tf.nn.conv2d(tmp_bn_1,w2,strides=[1,1,1,1],padding='SAME')\n",
    "    return (img+tmp_bn_2)\n",
    "def dc_bottleneck(img,w1,w2,output_shape):\n",
    "    output_shape[3]=w1.get_shape().as_list()[2]\n",
    "    tmp_bn_1=tf.nn.relu(tf.nn.conv2d_transpose(img,w1,output_shape=output_shape,strides=[1,1,1,1],padding='SAME'))\n",
    "    output_shape[3]=w2.get_shape().as_list()[2]\n",
    "    tmp_bn_2=tf.nn.conv2d_transpose(tmp_bn_1,w2,output_shape=output_shape,strides=[1,1,1,1],padding='SAME')\n",
    "    return (img+tmp_bn_2)\n",
    "def hourglass(img,wc1_1,wc1_2,bc1,wc2_1,wc2_2,bc2,wc3_1,wc3_2,bc3,wc4_1,wc4_2,bc4,wc5_1,wc5_2,bc5):\n",
    "    tmp_cv_1=tf.nn.relu(tf.nn.bias_add(cv_bottleneck(img,wc1_1,wc1_2),bc1))\n",
    "    tmp_cv_1_pooling=max_pool(tmp_cv_1,k=2)\n",
    "    tmp_cv_1_pooling=tf.nn.dropout(tmp_cv_1_pooling,keep_prob)\n",
    "    \n",
    "    tmp_cv_2=tf.nn.relu(tf.nn.bias_add(cv_bottleneck(tmp_cv_1_pooling,wc2_1,wc2_2),bc2))\n",
    "    tmp_cv_2_pooling=max_pool(tmp_cv_2,k=2)\n",
    "    tmp_cv_2_pooling=tf.nn.dropout(tmp_cv_2_pooling,keep_prob)\n",
    "    \n",
    "    tmp_cv_3=tf.nn.relu(tf.nn.bias_add(cv_bottleneck(tmp_cv_2_pooling,wc3_1,wc3_2),bc3))\n",
    "    tmp_cv_3=tf.nn.dropout(tmp_cv_3,keep_prob)\n",
    "    \n",
    "    tmp_rs_1=tf.image.resize_bilinear(tmp_cv_3,tmp_cv_2.get_shape().as_list()[1:3])\n",
    "    tmpShape=tmp_cv_1_pooling.get_shape().as_list()\n",
    "    tmpShape[0]=batch_size\n",
    "    tmp_dc_1=tf.nn.relu(tf.nn.bias_add(dc_bottleneck(tmp_rs_1,wc4_1,wc4_2,output_shape=tmpShape),bc4))\n",
    "    \n",
    "    tmp_add_1=tf.add(tmp_dc_1,tmp_cv_1_pooling)\n",
    "    tmp_add_1=tf.nn.dropout(tmp_add_1,keep_prob)\n",
    "    \n",
    "    tmp_rs_2=tf.image.resize_bilinear(tmp_add_1,tmp_cv_1.get_shape().as_list()[1:3])\n",
    "    tmpShape=img.get_shape().as_list()\n",
    "    tmpShape[0]=batch_size\n",
    "    tmp_dc_2=tf.nn.relu(tf.nn.bias_add(dc_bottleneck(tmp_rs_2,wc5_1,wc5_2,output_shape=tmpShape),bc5))\n",
    "    \n",
    "    tmp_add_2=tf.add(tmp_dc_2,img)\n",
    "    tmp_add_21=tf.nn.dropout(tmp_add_2,keep_prob)\n",
    "    \n",
    "    return (tmp_add_2)"
   ]
  },
  {
   "cell_type": "code",
   "execution_count": 28,
   "metadata": {},
   "outputs": [],
   "source": [
    "wc1=tf.Variable(tf.random_normal([7,7,3,16]),name=\"wc1\")\n",
    "bc1=tf.Variable(tf.random_normal([16]),name=\"bc1\")\n",
    "\n",
    "wh1_1_1=tf.Variable(tf.random_normal([5,5,16,64]),name=\"wh1_1_1\")\n",
    "wh1_1_2=tf.Variable(tf.random_normal([5,5,64,16]),name=\"wh1_1_2\")\n",
    "\n",
    "bh1_1=tf.Variable(tf.random_normal([16]),name=\"bh1_1\")\n",
    "\n",
    "wh1_2_1=tf.Variable(tf.random_normal([3,3,16,64]),name=\"wh1_2_1\")\n",
    "wh1_2_2=tf.Variable(tf.random_normal([3,3,64,16]),name=\"wh1_2_2\")\n",
    "\n",
    "bh1_2=tf.Variable(tf.random_normal([16]),name=\"bh1_2\")\n",
    "\n",
    "wh1_3_1=tf.Variable(tf.random_normal([3,3,16,16]),name=\"wh1_3_1\")\n",
    "wh1_3_2=tf.Variable(tf.random_normal([3,3,16,16]),name=\"wh1_3_2\")\n",
    "\n",
    "bh1_3=tf.Variable(tf.random_normal([16]),name=\"bh1_3\")\n",
    "\n",
    "wh1_4_1=tf.Variable(tf.random_normal([3,3,64,16]),name=\"wh1_4_1\")\n",
    "wh1_4_2=tf.Variable(tf.random_normal([3,3,16,64]),name=\"wh1_4_2\")\n",
    "\n",
    "bh1_4=tf.Variable(tf.random_normal([16]),name=\"bh1_4\")\n",
    "\n",
    "wh1_5_1=tf.Variable(tf.random_normal([3,3,64,16]),name=\"wh1_5_1\")\n",
    "wh1_5_2=tf.Variable(tf.random_normal([3,3,16,64]),name=\"wh1_5_2\")\n",
    "\n",
    "bh1_5=tf.Variable(tf.random_normal([16]),name=\"bh1_5\")\n",
    "\n",
    "wd1=tf.Variable(tf.random_normal([7,7,16,16]),name=\"wd1\")\n",
    "bd1=tf.Variable(tf.random_normal([16]),name=\"bd1\")\n",
    "\n",
    "wc2=tf.Variable(tf.random_normal([1,1,16,16]),name=\"wc2\")\n",
    "bc2=tf.Variable(tf.random_normal([16]),name=\"bc2\")"
   ]
  },
  {
   "cell_type": "code",
   "execution_count": 29,
   "metadata": {},
   "outputs": [],
   "source": [
    "#Construct model\n",
    "conv1=conv2d(x,wc1,bc1)\n",
    "conv1_pooling=max_pool(conv1,k=2)\n",
    "conv1_pooling=tf.nn.dropout(conv1_pooling,keep_prob)\n",
    "\n",
    "hg_1=hourglass(conv1_pooling,wh1_1_1,wh1_1_2,bh1_1,wh1_2_1,wh1_2_2,bh1_2,wh1_3_1,wh1_3_2,bh1_3,wh1_4_1,wh1_4_2,bh1_4,wh1_5_1,wh1_5_2,bh1_5)\n",
    "\n",
    "resize1=tf.image.resize_bilinear(hg_1,conv1.get_shape().as_list()[1:3])\n",
    "tmpShape=x.get_shape().as_list()\n",
    "tmpShape[0]=batch_size\n",
    "tmpShape[3]=wd1.get_shape().as_list()[2]\n",
    "dconv1=conv2d_transpose(resize1,wd1,bd1,output_shape=tmpShape)\n",
    "dconv1=tf.nn.dropout(dconv1,keep_prob)\n",
    "\n",
    "conv2=conv2d(dconv1,wc2,bc2)\n",
    "conv2=tf.nn.dropout(conv2,keep_prob)\n"
   ]
  },
  {
   "cell_type": "code",
   "execution_count": 30,
   "metadata": {},
   "outputs": [],
   "source": [
    "saver = tf.train.Saver()\n",
    "init=tf.global_variables_initializer()\n",
    "config = tf.ConfigProto()\n",
    "config.gpu_options.allow_growth = True"
   ]
  },
  {
   "cell_type": "code",
   "execution_count": 31,
   "metadata": {},
   "outputs": [],
   "source": [
    "pairs=[[7,8],[8,9],[6,5],[5,4],[6,0],[7,0],[0,1],[1,2],[2,3],[10,11],[11,12],[15,14],[14,13],[12,1],[13,1]]\n",
    "def draw_bones(img,joints):\n",
    "    for line in pairs:\n",
    "        a=(int(joints[line[0]][0]),int(joints_pos[line[0]][1]))\n",
    "        b=(int(joints[line[1]][0]),int(joints_pos[line[1]][1]))\n",
    "        cv2.line(img,a,b,(255,0,0),5)\n",
    "    return img"
   ]
  },
  {
   "cell_type": "code",
   "execution_count": 32,
   "metadata": {},
   "outputs": [
    {
     "name": "stdout",
     "output_type": "stream",
     "text": [
      "INFO:tensorflow:Restoring parameters from model/model_hg.ckpt\n"
     ]
    }
   ],
   "source": [
    "with tf.Session(config=config) as sess:\n",
    "    sess.run(init)\n",
    "    saver.restore(sess,\"model/model_hg.ckpt\")\n",
    "    cap = cv2.VideoCapture(0)\n",
    "    \n",
    "    np_img=np.zeros([1,img_height,img_width,3])\n",
    "    joints_pos=np.zeros([16,2])\n",
    "    #tmpCount=0\n",
    "    #while tmpCount<1:\n",
    "    while True:\n",
    "        ret, frame = cap.read()\n",
    "        #print(type(frame[0:479,140:499]))\n",
    "        np_img[0]=np.array(frame[0:480,140:500])\n",
    "        output=sess.run(conv2,feed_dict = {x:np_img,keep_prob:1.})\n",
    "        for i in range(0,16):\n",
    "            tmp_heatmap=output[0,:,:,i]\n",
    "            single_joint_location = np.unravel_index(tmp_heatmap.argmax(), tmp_heatmap.shape)\n",
    "            joints_pos[i]=single_joint_location\n",
    "        frame=draw_bones(frame,joints_pos)\n",
    "        cv2.imshow('frame',frame)\n",
    "        if cv2.waitKey(1) & 0xFF == ord('q'):\n",
    "            break\n",
    "cap.release()\n",
    "cv2.destroyAllWindows()"
   ]
  },
  {
   "cell_type": "code",
   "execution_count": null,
   "metadata": {},
   "outputs": [],
   "source": []
  }
 ],
 "metadata": {
  "kernelspec": {
   "display_name": "Python 3",
   "language": "python",
   "name": "python3"
  },
  "language_info": {
   "codemirror_mode": {
    "name": "ipython",
    "version": 3
   },
   "file_extension": ".py",
   "mimetype": "text/x-python",
   "name": "python",
   "nbconvert_exporter": "python",
   "pygments_lexer": "ipython3",
   "version": "3.6.5"
  }
 },
 "nbformat": 4,
 "nbformat_minor": 2
}
